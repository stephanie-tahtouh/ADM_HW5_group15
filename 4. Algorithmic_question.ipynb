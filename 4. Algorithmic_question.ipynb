{
 "cells": [
  {
   "cell_type": "markdown",
   "id": "819089c8-2269-4179-ad09-761d199c6579",
   "metadata": {},
   "source": [
    "## 4. Algorithmic question"
   ]
  },
  {
   "cell_type": "markdown",
   "id": "d0ec9ceb-1a4a-43c1-a0d3-347a06796aac",
   "metadata": {},
   "source": [
    "#### A number n of kids are in a camp. Between some k pairs of them (a kid can be part of more than one pairs) there are often fights. At night there are two dormitories where the kids can sleep. We want, if possible, to assign each kid in one of the two dormitories in such a way that each pair of kids that fights often is assigned to a different dormitory. (There are no space problems and the two dormitories can have different number of kids.)\n",
    "\n",
    "#### Give an algorithm that is linear in n and k that is able to answer whether such an assignment is possible and, if so, return one."
   ]
  },
  {
   "cell_type": "markdown",
   "id": "4892a777-7cdf-46cb-92b4-803ef8cacedb",
   "metadata": {},
   "source": [
    "### Answer"
   ]
  },
  {
   "cell_type": "markdown",
   "id": "5606f5a9-1ce2-46f8-913d-cff8f2bfb60a",
   "metadata": {},
   "source": [
    "The idea of the algorithm is to start from any node and mark it as Red, then visit all neighbors and mark as Black, then their neighbors which aren't visited yet will be Red, etc...\n",
    "In this way, we will have split the graph into 2 subgraphs which will be the 2 groups of children."
   ]
  },
  {
   "cell_type": "markdown",
   "id": "1deed83f-a719-47d7-99c3-5fe4bed9ecc4",
   "metadata": {},
   "source": [
    "### The algorithm"
   ]
  },
  {
   "cell_type": "code",
   "execution_count": null,
   "id": "e54532c3-cf51-45bc-8957-3ac415080e15",
   "metadata": {},
   "outputs": [],
   "source": [
    "import networkx as nx\n",
    "import random\n",
    "from random import choice\n",
    "import matplotlib.pyplot as plt\n",
    "g = nx.Graph()\n",
    "g.add_edge(1,4)\n",
    "g.add_edge(1,6)\n",
    "#g.add_edge(1,7) #---> If we add this edge, the graph can't be split into 2\n",
    "g.add_edge(1,8)\n",
    "g.add_edge(2,4)\n",
    "g.add_edge(2,5)\n",
    "g.add_edge(3,4)\n",
    "g.add_edge(3,5)\n",
    "g.add_edge(3,6)\n",
    "g.add_edge(7,8)\n",
    "g.add_edge(7,6)\n",
    "g.add_edge(9,10)"
   ]
  },
  {
   "cell_type": "code",
   "execution_count": null,
   "id": "623d0dd7-035e-47e7-9f67-9fc68d2c5977",
   "metadata": {},
   "outputs": [],
   "source": [
    "nx.draw(g, with_labels=True)\n",
    "plt.show()"
   ]
  },
  {
   "cell_type": "markdown",
   "id": "5fb97b0d-b283-4424-97b8-c2abfbc6ddb7",
   "metadata": {},
   "source": [
    "## Try to use the BFS idea"
   ]
  },
  {
   "cell_type": "code",
   "execution_count": null,
   "id": "e7309da4-14f7-4ec0-901c-d0859614462d",
   "metadata": {},
   "outputs": [],
   "source": [
    "def split(g):\n",
    "    red=[]\n",
    "    black=[]\n",
    "    remaining= [x for x in list(g.nodes()) if (x not in red or x not in black)]\n",
    "    while len(remaining)!=0: #use this loop to be able to do the split of all connected components of the graph\n",
    "        s=random.choice(remaining) #start with a random node\n",
    "        q=[] #create a queue\n",
    "        visited={}\n",
    "        for i in g.nodes(): #initialize visited as false for all nodes\n",
    "            visited[i]=False\n",
    "        visited[s]=True \n",
    "        red.append(s)\n",
    "        q.append(s)\n",
    "        remaining.remove(s)\n",
    "        while not len(q)==0:\n",
    "            s=q.pop(0)\n",
    "            for u in g.adj[s]: #for every neighbor of s\n",
    "                if visited[u]==False: #if it's not visited\n",
    "                    visited[u]=True #mark as visited\n",
    "                    if s in red:\n",
    "                        black.append(u)\n",
    "                        if any(a in black for a in g.adj[u]): #to check for errors, if there is any then we can't split\n",
    "                #there's an error if two adjacent nodes have the same color, i.e. two children who fight are in the same group\n",
    "                            return(\"Can't split\")\n",
    "                    else:\n",
    "                        red.append(u)\n",
    "                        if any(a in red for a in g.adj[u]):\n",
    "                            return(\"Can't split\")\n",
    "                    q.append(u)\n",
    "                    remaining.remove(u)\n",
    "    return(print(\"The first group is:\",red,\"\\nThe second group is:\",black))\n"
   ]
  },
  {
   "cell_type": "code",
   "execution_count": null,
   "id": "c8775ada-7b32-491d-9360-2cdef526c20d",
   "metadata": {},
   "outputs": [],
   "source": [
    "split(g)"
   ]
  }
 ],
 "metadata": {
  "kernelspec": {
   "display_name": "Python 3",
   "language": "python",
   "name": "python3"
  },
  "language_info": {
   "codemirror_mode": {
    "name": "ipython",
    "version": 3
   },
   "file_extension": ".py",
   "mimetype": "text/x-python",
   "name": "python",
   "nbconvert_exporter": "python",
   "pygments_lexer": "ipython3",
   "version": "3.8.8"
  }
 },
 "nbformat": 4,
 "nbformat_minor": 5
}
