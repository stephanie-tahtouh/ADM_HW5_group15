{
 "cells": [
  {
   "cell_type": "markdown",
   "id": "313d807c-bfb0-4767-b7b5-d54416d381fe",
   "metadata": {
    "id": "313d807c-bfb0-4767-b7b5-d54416d381fe"
   },
   "source": [
    "# 1.DATA"
   ]
  },
  {
   "cell_type": "code",
   "execution_count": 7,
   "id": "edcb5487-e2a4-4568-9598-8f7781b8b77f",
   "metadata": {
    "id": "edcb5487-e2a4-4568-9598-8f7781b8b77f"
   },
   "outputs": [],
   "source": [
    "import numpy as np\n",
    "from datetime import datetime as dt\n",
    "import pandas as pd\n",
    "import networkx as nx\n",
    "import matplotlib.pyplot as plt"
   ]
  },
  {
   "cell_type": "code",
   "execution_count": 8,
   "id": "015155f2-8d04-47b9-bf7e-a98213452a13",
   "metadata": {
    "id": "015155f2-8d04-47b9-bf7e-a98213452a13"
   },
   "outputs": [],
   "source": [
    "with open ('sx-stackoverflow-a2q.txt') as dataset_a2q:\n",
    "    a2q=dataset_a2q.readlines()\n",
    "\n",
    "with open ('sx-stackoverflow-c2a.txt') as dataset_c2a:\n",
    "    c2a= dataset_c2a.readlines()\n",
    "    \n",
    "with open ('sx-stackoverflow-c2q.txt') as dataset_c2q:\n",
    "    c2q= dataset_c2q.readlines()"
   ]
  },
  {
   "cell_type": "markdown",
   "id": "1e4e9a10-c1ed-43fd-843a-8ccb8881be14",
   "metadata": {
    "id": "1e4e9a10-c1ed-43fd-843a-8ccb8881be14"
   },
   "source": [
    "### Preparing the data"
   ]
  },
  {
   "cell_type": "markdown",
   "id": "4b5735e7-b3fb-46b1-a09d-a7723115ee25",
   "metadata": {
    "id": "4b5735e7-b3fb-46b1-a09d-a7723115ee25"
   },
   "source": [
    "Note that we're changing the values of the read data instead of creating new variables to store the corrected version, in order to save space."
   ]
  },
  {
   "cell_type": "code",
   "execution_count": 9,
   "id": "c3864a1e-2ad9-475c-b9f2-f51b6cdb648e",
   "metadata": {
    "id": "c3864a1e-2ad9-475c-b9f2-f51b6cdb648e"
   },
   "outputs": [],
   "source": [
    "n=100 #we'll try first with n=100 rows from each one of the 3 datasets\n",
    "for i in range(0,n):\n",
    "    a2q[i]=a2q[i].split()\n",
    "    a2q[i][0]=int(a2q[i][0])\n",
    "    a2q[i][1]=int(a2q[i][1])\n",
    "    a2q[i][2]=dt.utcfromtimestamp(int(a2q[i][2])).strftime('%Y-%m-%d')\n",
    "    \n",
    "for i in range(0,n):\n",
    "    c2a[i]=c2a[i].split()\n",
    "    c2a[i][0]=int(c2a[i][0])\n",
    "    c2a[i][1]=int(c2a[i][1])\n",
    "    c2a[i][2]=dt.utcfromtimestamp(int(c2a[i][2])).strftime('%Y-%m-%d')\n",
    "    \n",
    "for i in range(0,n):\n",
    "    c2q[i]=c2q[i].split()\n",
    "    c2q[i][0]=int(c2q[i][0])\n",
    "    c2q[i][1]=int(c2q[i][1])\n",
    "    c2q[i][2]=dt.utcfromtimestamp(int(c2q[i][2])).strftime('%Y-%m-%d')"
   ]
  },
  {
   "cell_type": "markdown",
   "id": "e4bca102",
   "metadata": {
    "id": "e4bca102"
   },
   "source": [
    "## Faster version, but gives memory error"
   ]
  },
  {
   "cell_type": "code",
   "execution_count": null,
   "id": "5e466e8d",
   "metadata": {
    "id": "5e466e8d"
   },
   "outputs": [],
   "source": [
    "'''\n",
    "with open ('sx-stackoverflow-a2q.txt') as dataset_a2q:\n",
    "    a2q = [int(x) for x in dataset_a2q.read().split()] #while reading lines, split and transform into int\n",
    "    #len(lst)=3* real number of lines, because after this step each value is stored alone: no nested lists\n",
    "'''"
   ]
  },
  {
   "cell_type": "code",
   "execution_count": null,
   "id": "e061d348",
   "metadata": {
    "id": "e061d348"
   },
   "outputs": [],
   "source": [
    "'''\n",
    "m=int(len(a2q)/3)\n",
    "for i in range(2,m+1,3):\n",
    "    a2q[i]=dt.utcfromtimestamp(a2q[i]).strftime('%Y-%m-%d')\n",
    "    '''"
   ]
  },
  {
   "cell_type": "code",
   "execution_count": null,
   "id": "6866441b",
   "metadata": {
    "id": "6866441b"
   },
   "outputs": [],
   "source": [
    "'''\n",
    "with open ('sx-stackoverflow-c2a.txt') as dataset_c2a:\n",
    "    c2a = [int(x) for x in dataset_c2a.read().split()]\n",
    "    '''"
   ]
  },
  {
   "cell_type": "code",
   "execution_count": null,
   "id": "f4cde396",
   "metadata": {
    "id": "f4cde396"
   },
   "outputs": [],
   "source": [
    "'''\n",
    "m=int(len(c2a)/3)\n",
    "for i in range(2,m+1,3):\n",
    "    c2a[i]=dt.utcfromtimestamp(c2a[i]).strftime('%Y-%m-%d')\n",
    "'''"
   ]
  },
  {
   "cell_type": "code",
   "execution_count": null,
   "id": "3d839bf5",
   "metadata": {
    "id": "3d839bf5"
   },
   "outputs": [],
   "source": [
    "'''\n",
    "with open ('sx-stackoverflow-c2q.txt') as dataset_c2q:\n",
    "    c2q = [int(x) for x in dataset_c2q.read().split()]\n",
    "'''"
   ]
  },
  {
   "cell_type": "code",
   "execution_count": null,
   "id": "ab9040c2",
   "metadata": {
    "id": "ab9040c2"
   },
   "outputs": [],
   "source": [
    "'''\n",
    "m=int(len(c2q)/3)\n",
    "for i in range(2,m+1,3):\n",
    "    c2q[i]=dt.utcfromtimestamp(c2q[i]).strftime('%Y-%m-%d')\n",
    "    '''"
   ]
  },
  {
   "cell_type": "markdown",
   "id": "e57bf5fb-60ac-4ca3-b589-b6b7aa2d3a60",
   "metadata": {
    "id": "e57bf5fb-60ac-4ca3-b589-b6b7aa2d3a60"
   },
   "source": [
    "### Remove answer from user to his own question, i.e. remove loops from corresponding graph"
   ]
  },
  {
   "cell_type": "code",
   "execution_count": 10,
   "id": "7477426f",
   "metadata": {
    "id": "7477426f"
   },
   "outputs": [],
   "source": [
    "a2q_n=a2q[0:n]\n",
    "c2a_n=c2a[0:n]\n",
    "c2q_n=c2q[0:n]"
   ]
  },
  {
   "cell_type": "code",
   "execution_count": 11,
   "id": "97f0f7d4-a147-490e-a80f-625550d3daf8",
   "metadata": {
    "id": "97f0f7d4-a147-490e-a80f-625550d3daf8"
   },
   "outputs": [],
   "source": [
    "w=0\n",
    "while w<len(a2q_n):\n",
    "    if a2q_n[w][0]==a2q_n[w][1]:\n",
    "        del a2q_n[w]\n",
    "    else:\n",
    "        w+=1\n",
    "naq=len(a2q_n)"
   ]
  },
  {
   "cell_type": "markdown",
   "id": "71261cdf-093b-47d1-985d-ed9eeefba444",
   "metadata": {
    "id": "71261cdf-093b-47d1-985d-ed9eeefba444"
   },
   "source": [
    "### Should do the same for the other 2"
   ]
  },
  {
   "cell_type": "code",
   "execution_count": 12,
   "id": "e48006d7-9c6e-4757-a458-0c69c8e76889",
   "metadata": {
    "id": "e48006d7-9c6e-4757-a458-0c69c8e76889"
   },
   "outputs": [],
   "source": [
    "x=0\n",
    "while x<len(c2a_n):\n",
    "    if c2a_n[x][0]==c2a_n[x][1]:\n",
    "        del c2a_n[x]\n",
    "    else:\n",
    "        x+=1\n",
    "nca=len(c2a_n)"
   ]
  },
  {
   "cell_type": "code",
   "execution_count": 13,
   "id": "165aa557",
   "metadata": {
    "id": "165aa557"
   },
   "outputs": [
    {
     "data": {
      "text/plain": [
       "87"
      ]
     },
     "execution_count": 13,
     "metadata": {},
     "output_type": "execute_result"
    }
   ],
   "source": [
    "len(c2a_n)"
   ]
  },
  {
   "cell_type": "code",
   "execution_count": 14,
   "id": "9fde7540-072c-4579-8af4-24d9739a9433",
   "metadata": {
    "id": "9fde7540-072c-4579-8af4-24d9739a9433"
   },
   "outputs": [],
   "source": [
    "y=0\n",
    "while y<len(c2q_n):\n",
    "    if c2q_n[y][0]==c2q_n[y][1]:\n",
    "        del c2q_n[y]\n",
    "    else:\n",
    "        y+=1\n",
    "ncq=len(c2q_n)"
   ]
  },
  {
   "cell_type": "markdown",
   "id": "8bf70e69-6d3f-4d60-a549-df2ca701befc",
   "metadata": {
    "id": "8bf70e69-6d3f-4d60-a549-df2ca701befc"
   },
   "source": [
    "## NOW CREATE WEIGHTED GRAPH ??"
   ]
  },
  {
   "cell_type": "markdown",
   "id": "826ed072-9772-424b-bf51-80567683222f",
   "metadata": {
    "id": "826ed072-9772-424b-bf51-80567683222f"
   },
   "source": [
    "### We'll use a nested dictionary"
   ]
  },
  {
   "cell_type": "code",
   "execution_count": 15,
   "id": "e25ee4cc",
   "metadata": {
    "id": "e25ee4cc"
   },
   "outputs": [],
   "source": [
    "def dateInRange(date, initTime, endTime): #return true if the given date its in the range [initTime, endTime], return false otherwise\n",
    "    if(initTime == '-' or endTime == '-'):\n",
    "        return True\n",
    "    if initTime <= date <= endTime:\n",
    "        return True\n",
    "    else:\n",
    "        return False\n",
    "    \n",
    "def createGraph(initTime, endTime, data):\n",
    "    graph = {}\n",
    "    for x in range(len(data)):\n",
    "        if dateInRange(data[x][2], initTime, endTime):\n",
    "            if data[x][0] in graph: #we already have the node of that user in the graph\n",
    "                if data[x][1] in graph[data[x][0]]: #we already have one interaction of user data[x][0] with user data[x][1], so we add 1 to the number of interactions\n",
    "                    graph[data[x][0]][data[x][1]] += 1\n",
    "                else:\n",
    "                    graph[data[x][0]][data[x][1]] = 1 #we don't have an interacion between that 2 users, so we initialize the interaction with a 1 (because till the moment we only have 1 interaction).\n",
    "            else: #we don't have the node of the user in the graph\n",
    "                graph[data[x][0]] = {data[x][1] : 1}\n",
    "    return graph"
   ]
  },
  {
   "cell_type": "code",
   "execution_count": null,
   "id": "b35cee1d",
   "metadata": {
    "id": "b35cee1d"
   },
   "outputs": [],
   "source": [
    "'''\n",
    "auxData = [['0','1','2008-02-11'], ['0', '2', '2008-02-11'], ['0', '1', '2008-02-11'], ['1','0', '2008-04-11']]\n",
    "dict_a2q_n = createGraph('2008-02-11', '2008-02-11', auxData)\n",
    "dict_a2q_n\n",
    "'''"
   ]
  },
  {
   "cell_type": "code",
   "execution_count": 16,
   "id": "6df7b108",
   "metadata": {
    "id": "6df7b108"
   },
   "outputs": [],
   "source": [
    "dict_a2q_n = createGraph('-', '-', a2q_n)\n",
    "dict_c2a_n = createGraph('-', '-', c2a_n)\n",
    "dict_c2q_n = createGraph('-', '-', c2q_n)\n"
   ]
  },
  {
   "cell_type": "code",
   "execution_count": 17,
   "id": "3b1b83a1-76eb-46fd-8640-dc5f010e01a6",
   "metadata": {
    "id": "3b1b83a1-76eb-46fd-8640-dc5f010e01a6"
   },
   "outputs": [
    {
     "data": {
      "text/plain": [
       "\"\\ndict_a2q_n={}\\nfor i in range (0,naq):\\n    dict_a2q_n[a2q_n[i][0]]={'a2vs_question':a2q_n[0][1],'time_a2q':a2q_n[0][2],'weight':0}\\n    \""
      ]
     },
     "execution_count": 17,
     "metadata": {},
     "output_type": "execute_result"
    }
   ],
   "source": [
    "'''\n",
    "dict_a2q_n={}\n",
    "for i in range (0,naq):\n",
    "    dict_a2q_n[a2q_n[i][0]]={'a2vs_question':a2q_n[0][1],'time_a2q':a2q_n[0][2],'weight':0}\n",
    "    '''"
   ]
  },
  {
   "cell_type": "code",
   "execution_count": 18,
   "id": "c2383626-83a7-48d2-b6e6-2196bd1baa3b",
   "metadata": {
    "id": "c2383626-83a7-48d2-b6e6-2196bd1baa3b"
   },
   "outputs": [
    {
     "data": {
      "text/plain": [
       "\"\\ndict_c2a_n={}\\nfor i in range (0,nca):\\n    dict_c2a_n[c2a_n[i][0]]={'c2vs_answer':c2a_n[0][1],'time_c2a':c2a_n[0][2],'weight':0}\\n    \""
      ]
     },
     "execution_count": 18,
     "metadata": {},
     "output_type": "execute_result"
    }
   ],
   "source": [
    "'''\n",
    "dict_c2a_n={}\n",
    "for i in range (0,nca):\n",
    "    dict_c2a_n[c2a_n[i][0]]={'c2vs_answer':c2a_n[0][1],'time_c2a':c2a_n[0][2],'weight':0}\n",
    "    '''"
   ]
  },
  {
   "cell_type": "code",
   "execution_count": 19,
   "id": "ee5ac4e5-614f-4b9b-a890-8f045bd26946",
   "metadata": {
    "id": "ee5ac4e5-614f-4b9b-a890-8f045bd26946"
   },
   "outputs": [
    {
     "data": {
      "text/plain": [
       "\"\\ndict_c2q_n={}\\nfor i in range (0,ncq):\\n    dict_c2q_n[c2q_n[i][0]]={'c2vs_question':c2q_n[0][1],'time_c2q':c2q_n[0][2],'weight':0}\\n    \""
      ]
     },
     "execution_count": 19,
     "metadata": {},
     "output_type": "execute_result"
    }
   ],
   "source": [
    "'''\n",
    "dict_c2q_n={}\n",
    "for i in range (0,ncq):\n",
    "    dict_c2q_n[c2q_n[i][0]]={'c2vs_question':c2q_n[0][1],'time_c2q':c2q_n[0][2],'weight':0}\n",
    "    '''"
   ]
  },
  {
   "cell_type": "markdown",
   "id": "911ea805-30b0-44cb-8641-c83b29a3daf8",
   "metadata": {
    "id": "911ea805-30b0-44cb-8641-c83b29a3daf8"
   },
   "source": [
    "#### For the merged dataset: -----> to work on, according to how we decide to merge"
   ]
  },
  {
   "cell_type": "code",
   "execution_count": 20,
   "id": "f0b870b6",
   "metadata": {},
   "outputs": [],
   "source": [
    "def mergeTwoGraphs(g1, g2): #merge g1 and g2 into one graph. g1 and g2 must exist.\n",
    "    #  print(\\\"-----------\\\")\n",
    "    #  print(\\\"g1: \\\", g1)\n",
    "    #  print(\\\"g2: \\\", g2)\n",
    "    #  print(\\\"-----------\\\")\n",
    "    for x in g2:\n",
    "        #print(\\\"x: \\\", x)\n",
    "        if x in g1: #if in g1 we have the user x, we have to add all his interactions 1 by 1. If the interaction already exists, we just add 1 to the weight.\n",
    "            for y in g2[x]:\n",
    "                #print(\\\"y: \\\", y)\n",
    "                if y in g1[x]:\n",
    "                    g1[x][y] += g2[x][y]\n",
    "                else:\n",
    "                    g1[x][y] = 1\n",
    "        else: #if in g1 we don't have the user x, we add all his interactions\n",
    "            g1[x] = g2[x]\n",
    "    return g1\n",
    "    \n",
    "def mergeGraphs(graphs): #merge the graphs into one graph. The parameter graphs it's and array of all the graphs to merge [g1, g2, ...]\n",
    "        mergedGraph = {}\n",
    "        if len(graphs) > 0:\n",
    "            mergedGraph = graphs[0]\n",
    "            for x in graphs[1:]:\n",
    "                mergedGraph = mergeTwoGraphs(mergedGraph, x)       \n",
    "        return mergedGraph"
   ]
  },
  {
   "cell_type": "code",
   "execution_count": 21,
   "id": "9cd8181a",
   "metadata": {},
   "outputs": [],
   "source": [
    "merged_Graphs = mergeGraphs([dict_a2q_n,dict_c2a_n,dict_c2q_n])"
   ]
  },
  {
   "cell_type": "code",
   "execution_count": 22,
   "id": "ab982ef7",
   "metadata": {},
   "outputs": [
    {
     "data": {
      "text/plain": [
       "{9: {8: 1, 72: 1},\n",
       " 13: {1: 1, 23: 2, 11: 1},\n",
       " 17: {1: 2, 32: 1, 72: 1, 48: 1, 83: 1, 2064: 1},\n",
       " 48: {2: 1, 91: 1},\n",
       " 19: {9: 1},\n",
       " 35: {33: 1, 58: 1, 71: 1},\n",
       " 39: {33: 1, 40: 1, 8: 1, 91: 1},\n",
       " 43: {22: 1},\n",
       " 37: {40: 1},\n",
       " 49: {13: 1, 109: 1, 91: 1},\n",
       " 50: {37: 1, 2089740: 1, 91: 1},\n",
       " 40: {37: 1, 59: 1, 146637: 2, 91: 1},\n",
       " 55: {8: 1, 78: 1, 146637: 2, 91: 1, 106: 1},\n",
       " 51: {32: 1},\n",
       " 60: {2: 1, 72: 1},\n",
       " 61: {58: 1, 39: 1},\n",
       " 25: {61: 2},\n",
       " 2089740: {61: 1},\n",
       " 72: {9: 1, 48: 1, 58: 1},\n",
       " 36: {39: 1},\n",
       " 146270: {72: 1},\n",
       " 34: {39: 1, 91: 1, 105: 1},\n",
       " 58: {72: 1, 59: 1},\n",
       " 26: {58: 1},\n",
       " 59: {78: 1, 30: 1, 83: 1, 63: 1},\n",
       " 71: {48: 1, 30: 1, 60: 1, 62: 1, 91: 1},\n",
       " 42: {58: 1, 39: 1},\n",
       " 86: {58: 1, 78: 1, 4406: 1},\n",
       " 146637: {37: 1, 30: 1, 59: 1, 4246: 1},\n",
       " 80: {87: 1, 83: 1},\n",
       " 44: {87: 1},\n",
       " 70: {30: 1},\n",
       " 33: {39: 1},\n",
       " 30: {91: 1},\n",
       " 93: {58: 1},\n",
       " 96: {91: 1},\n",
       " 91: {1: 1, 62: 1, 109: 1, 71: 1},\n",
       " 101: {105: 1},\n",
       " 106: {96: 1},\n",
       " 1: {91: 1},\n",
       " 3: {91: 1},\n",
       " 380: {350: 1},\n",
       " 4642: {2257: 1, 1324220: 1, 4893: 1},\n",
       " 2495: {4285: 1},\n",
       " 2515: {4903: 1, 4893: 1, 1600: 1},\n",
       " 292: {1694: 1},\n",
       " 4213: {1694: 1, 2789: 1, 3153: 1, 2653: 1, 4946: 1},\n",
       " 2353001: {825: 1},\n",
       " 4064: {3666: 1, 828: 1},\n",
       " 4906: {3205: 1, 4903: 1, 3631: 1},\n",
       " 3394: {1569: 1, 905: 2},\n",
       " 811: {4771: 1},\n",
       " 1597: {3153: 1},\n",
       " 2915: {3153: 1, 4220: 1},\n",
       " 1615: {2025: 1},\n",
       " 4285: {1254: 2, 4729: 1, 3900: 1},\n",
       " 422: {268: 1},\n",
       " 4761: {2230: 1},\n",
       " 445087: {3333: 1, 4673: 1, 4798: 2, 2915: 1},\n",
       " 797: {4926: 1},\n",
       " 4926: {1310: 1},\n",
       " 1891: {3655: 1},\n",
       " 1573: {1965: 1},\n",
       " 209: {380: 1, 748: 1, 960: 1},\n",
       " 2260: {4727: 2},\n",
       " 4134: {813: 1},\n",
       " 4833: {5021: 1},\n",
       " 3408: {305: 1, 3421: 1, 2566: 1},\n",
       " 1965: {2257: 1, 5208: 1},\n",
       " 1820: {4052: 1},\n",
       " 4918: {1965: 1, 115: 1},\n",
       " 5021: {4833: 1, 17: 1},\n",
       " 4596: {4300: 1, 4673: 1},\n",
       " 4729: {3434: 1, 580: 1, 1659: 1},\n",
       " 1944: {5049: 1, 1600: 1},\n",
       " 2655: {4500: 1, 1196: 1, 234: 1},\n",
       " 3055: {2257: 1},\n",
       " 3434: {2284: 1},\n",
       " 1084: {2284: 1},\n",
       " 1968: {3827: 1},\n",
       " 2653: {3171: 1, 4960: 1, 4906: 1},\n",
       " 227: {2305: 1},\n",
       " 1996: {4337: 1},\n",
       " 5076: {1600: 1, 2847: 1},\n",
       " 3848: {1569: 1},\n",
       " 4489: {5038: 1, 1360: 1, 4764: 1},\n",
       " 909: {5066: 1},\n",
       " 2030: {198: 1},\n",
       " 1879: {1690: 1},\n",
       " 2443: {4997: 1},\n",
       " 369: {233: 1},\n",
       " 364: {5123: 1},\n",
       " 1694: {1659: 1},\n",
       " 242: {184: 1},\n",
       " 2658: {1874: 1},\n",
       " 4035: {1874: 1},\n",
       " 2257: {4489: 1, 2757: 1, 5380: 1, 5197: 1},\n",
       " 828: {2783: 1},\n",
       " 1412: {5113: 2, 3742: 1},\n",
       " 3446: {5113: 2},\n",
       " 1790: {5119: 1, 115: 1, 672: 1, 5473: 1},\n",
       " 1772: {4903: 1, 123: 2},\n",
       " 952: {3196: 1},\n",
       " 372: {1127460: 1, 834: 1, 5302: 1},\n",
       " 184: {123: 1},\n",
       " 1709: {5222: 1},\n",
       " 1219: {5278: 1},\n",
       " 4984: {5278: 1},\n",
       " 327: {2191: 1},\n",
       " 832: {5278: 1},\n",
       " 245: {1117: 1},\n",
       " 2975: {131: 1},\n",
       " 960: {2759376: 1},\n",
       " 1553: {342: 1},\n",
       " 4200: {5023: 1},\n",
       " 123: {445087: 1},\n",
       " 986: {1175: 1},\n",
       " 379: {1175: 2},\n",
       " 2287: {1175: 1},\n",
       " 1146: {445087: 1},\n",
       " 3655: {4880: 1},\n",
       " 1886: {123: 1},\n",
       " 3474: {123: 1},\n",
       " 2541: {115: 2},\n",
       " 2535: {5369: 1},\n",
       " 1220: {122: 1},\n",
       " 1277510: {3279: 1},\n",
       " 1310: {1666: 1, 279: 1},\n",
       " 1438: {2001: 1},\n",
       " 1196: {5302: 2},\n",
       " 2574: {3146: 1},\n",
       " 4013: {4491: 1},\n",
       " 5330: {3900: 1},\n",
       " 1384652: {4880: 1},\n",
       " 2208: {445087: 1},\n",
       " 1908: {1228: 1, 5330: 1},\n",
       " 2469: {1874: 1}}"
      ]
     },
     "execution_count": 22,
     "metadata": {},
     "output_type": "execute_result"
    }
   ],
   "source": [
    "merged_Graphs"
   ]
  },
  {
   "cell_type": "code",
   "execution_count": null,
   "id": "6f97aa6b-df17-4b3e-b0dc-b9db546db35c",
   "metadata": {
    "id": "6f97aa6b-df17-4b3e-b0dc-b9db546db35c"
   },
   "outputs": [],
   "source": [
    "'''\n",
    "dict_merged={}\n",
    "dict_merged.update(dict_a2q_n)\n",
    "for i in dict_c2a_n.keys():\n",
    "    if i not in dict_merged.keys():\n",
    "        dict_merged[i]={'c2vs_answer':c2a_n[0][1],'time_c2a':c2a_n[0][2],'weight':0}\n",
    "for j in dict_c2q_n.keys():\n",
    "    if j not in dict_merged.keys(): \n",
    "        dict_merged[j]={'c2vs_question':c2q_n[0][1],'time_c2q':c2q_n[0][2],'weight':0}\n",
    "'''"
   ]
  },
  {
   "cell_type": "code",
   "execution_count": null,
   "id": "974728f4-f04a-4486-a8f6-b0fef5c4a090",
   "metadata": {
    "id": "974728f4-f04a-4486-a8f6-b0fef5c4a090"
   },
   "outputs": [],
   "source": [
    "'''\n",
    "for key in dict_merged.keys():\n",
    "    if len(dict_merged[key])>3:\n",
    "        print(i)\n",
    "'''"
   ]
  },
  {
   "cell_type": "markdown",
   "id": "HQvvnnPB9EVE",
   "metadata": {
    "id": "HQvvnnPB9EVE"
   },
   "source": [
    "####Functionalities are defined as methods within a class."
   ]
  },
  {
   "cell_type": "code",
   "execution_count": null,
   "id": "kTxI0kd17ZA3",
   "metadata": {
    "id": "kTxI0kd17ZA3"
   },
   "outputs": [],
   "source": [
    "class Graphs:\n",
    "    def _init_(self, i):\n",
    "        # <i> should be used in visualization phase.\n",
    "        # We call each functionality (method) within the class according to\n",
    "        # the given <i> by the user.\n",
    "        self.i = i\n",
    "        self.results = []\n",
    "\n",
    "    # First functionality\n",
    "    def get_features(self, inp_graph):\n",
    "\n",
    "        # Checking if the graph is undirected or not by looking for\n",
    "        # similar edges between pairs of vertices.\n",
    "        def is_directed():\n",
    "            for u, neigh in inp_graph.items():\n",
    "                for n in neigh.items():\n",
    "                    if n[0] in inp_graph:\n",
    "                        if n[0] != u and not ([(node, w) for node, w in inp_graph[n[0]].items() if (node == u and w == n[1])]):\n",
    "                            # print(\"The graph is directed\")\n",
    "                            return 1\n",
    "            # print(\"The graph is undirected.\")\n",
    "            return 0\n",
    "\n",
    "        # Number of users is equal to all the unique values both in keys\n",
    "        # and values of the given graph in the format of a dictionary.\n",
    "        def num_of_users():\n",
    "            _users = []\n",
    "            for k, v in inp_graph.items():\n",
    "                _users.append(k)\n",
    "                for i in [*v]:\n",
    "                    _users.append(i)\n",
    "            return len(set(_users))\n",
    "\n",
    "        # Counting all the values of the sub-dictionaries. If the graph is undirected\n",
    "        # then we divide the result by two.\n",
    "        def num_ans():\n",
    "            _counter = 0\n",
    "            for i in inp_graph.values():\n",
    "                _counter += len(i)\n",
    "            if self.results[0] == 0:\n",
    "                return _counter/2\n",
    "            else:\n",
    "                return _counter\n",
    "\n",
    "        # Number of edges / number of vertices\n",
    "        def avg_links():\n",
    "            return self.results[2]/self.results[1]\n",
    "\n",
    "        # Two different scenarios based on whether the graph is directed\n",
    "        # or not\n",
    "        def density_degree():\n",
    "            if self.results[0] == 1:\n",
    "                _density = self.results[2] / (self.results[1]*(self.results[1] - 1))\n",
    "            else:\n",
    "                _density = 2 * self.results[2] / (self.results[1] * (self.results[1] - 1))\n",
    "            return _density\n",
    "\n",
    "        # if density < 0.5 then it is sparse; otherwise it is considered dense.\n",
    "        def sparsity():\n",
    "            if self.results[4] <= 0.5:\n",
    "                # print(\"Sparse!\")\n",
    "                return 0\n",
    "            else:\n",
    "                # print(\"Dense!\")\n",
    "                return 1\n",
    "\n",
    "        self.results.append(is_directed())\n",
    "        self.results.append(num_of_users())\n",
    "        self.results.append(num_ans())\n",
    "        self.results.append(avg_links())\n",
    "        self.results.append(density_degree())\n",
    "        self.results.append(sparsity())\n",
    "\n",
    "        return self.results\n",
    "\n",
    "    # Second functionality\n",
    "    def best_users(self, user_id, init_time, end_time, mtrc):\n",
    "        return pass\n",
    "\n",
    "\n",
    "\n",
    "# Testing with both directed and undirected (dense) graphs\n",
    "# uncomment for directed graph\n",
    "# my_dict = {'A': {'B': 2, 'C': 3}, 'B': {'A': 4, 'C': 5, 'D':10}}\n",
    "# uncomment for undirected graph\n",
    "# my_dict = {'A': {'B': 2, 'C': 3}, 'B': {'A': 2, 'C': 5}, 'C':{'A':3, 'B':5}}\n",
    "\n",
    "# i = 1 indicates functionality 1\n",
    "# graph_features = Graphs(1)\n",
    "# report = graph_features.get_features(my_dict)\n",
    "# print(report)\n"
   ]
  }
 ],
 "metadata": {
  "colab": {
   "name": "HW5.ipynb",
   "provenance": []
  },
  "kernelspec": {
   "display_name": "Python 3 (ipykernel)",
   "language": "python",
   "name": "python3"
  },
  "language_info": {
   "codemirror_mode": {
    "name": "ipython",
    "version": 3
   },
   "file_extension": ".py",
   "mimetype": "text/x-python",
   "name": "python",
   "nbconvert_exporter": "python",
   "pygments_lexer": "ipython3",
   "version": "3.8.8"
  }
 },
 "nbformat": 4,
 "nbformat_minor": 5
}
