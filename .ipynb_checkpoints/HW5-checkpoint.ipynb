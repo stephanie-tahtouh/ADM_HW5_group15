{
 "cells": [
  {
   "cell_type": "markdown",
   "id": "313d807c-bfb0-4767-b7b5-d54416d381fe",
   "metadata": {},
   "source": [
    "# 1.DATA"
   ]
  },
  {
   "cell_type": "code",
   "execution_count": 1,
   "id": "edcb5487-e2a4-4568-9598-8f7781b8b77f",
   "metadata": {},
   "outputs": [],
   "source": [
    "import numpy as np\n",
    "from datetime import datetime as dt\n",
    "import pandas as pd\n",
    "import networkx as nx\n",
    "import matplotlib.pyplot as plt"
   ]
  },
  {
   "cell_type": "code",
   "execution_count": 2,
   "id": "015155f2-8d04-47b9-bf7e-a98213452a13",
   "metadata": {},
   "outputs": [],
   "source": [
    "with open ('sx-stackoverflow-a2q.txt') as dataset_a2q:\n",
    "    a2q=dataset_a2q.readlines()\n",
    "\n",
    "with open ('sx-stackoverflow-c2a.txt') as dataset_c2a:\n",
    "    c2a= dataset_c2a.readlines()\n",
    "    \n",
    "with open ('sx-stackoverflow-c2q.txt') as dataset_c2q:\n",
    "    c2q= dataset_c2q.readlines()"
   ]
  },
  {
   "cell_type": "markdown",
   "id": "1e4e9a10-c1ed-43fd-843a-8ccb8881be14",
   "metadata": {},
   "source": [
    "### Preparing the data"
   ]
  },
  {
   "cell_type": "markdown",
   "id": "4b5735e7-b3fb-46b1-a09d-a7723115ee25",
   "metadata": {},
   "source": [
    "Note that we're changing the values of the read data instead of creating new variables to store the corrected version, in order to save space."
   ]
  },
  {
   "cell_type": "code",
   "execution_count": 3,
   "id": "c3864a1e-2ad9-475c-b9f2-f51b6cdb648e",
   "metadata": {},
   "outputs": [],
   "source": [
    "n=100 #we'll try first with n=100 rows from each one of the 3 datasets\n",
    "for i in range(0,n):\n",
    "    a2q[i]=a2q[i].split()\n",
    "    a2q[i][0]=int(a2q[i][0])\n",
    "    a2q[i][1]=int(a2q[i][1])\n",
    "    a2q[i][2]=dt.utcfromtimestamp(int(a2q[i][2])).strftime('%Y-%m-%d')\n",
    "    \n",
    "for i in range(0,n):\n",
    "    c2a[i]=c2a[i].split()\n",
    "    c2a[i][0]=int(c2a[i][0])\n",
    "    c2a[i][1]=int(c2a[i][1])\n",
    "    c2a[i][2]=dt.utcfromtimestamp(int(c2a[i][2])).strftime('%Y-%m-%d')\n",
    "    \n",
    "for i in range(0,n):\n",
    "    c2q[i]=c2q[i].split()\n",
    "    c2q[i][0]=int(c2q[i][0])\n",
    "    c2q[i][1]=int(c2q[i][1])\n",
    "    c2q[i][2]=dt.utcfromtimestamp(int(c2q[i][2])).strftime('%Y-%m-%d')"
   ]
  },
  {
   "cell_type": "markdown",
   "id": "e4bca102",
   "metadata": {},
   "source": [
    "## Faster version, but gives memory error"
   ]
  },
  {
   "cell_type": "code",
   "execution_count": null,
   "id": "5e466e8d",
   "metadata": {},
   "outputs": [],
   "source": [
    "with open ('sx-stackoverflow-a2q.txt') as dataset_a2q:\n",
    "    a2q = [int(x) for x in dataset_a2q.read().split()] #while reading lines, split and transform into int\n",
    "    #len(lst)=3* real number of lines, because after this step each value is stored alone: no nested lists"
   ]
  },
  {
   "cell_type": "code",
   "execution_count": null,
   "id": "e061d348",
   "metadata": {},
   "outputs": [],
   "source": [
    "m=int(len(a2q)/3)\n",
    "for i in range(2,m+1,3):\n",
    "    a2q[i]=dt.utcfromtimestamp(a2q[i]).strftime('%Y-%m-%d')"
   ]
  },
  {
   "cell_type": "code",
   "execution_count": null,
   "id": "6866441b",
   "metadata": {},
   "outputs": [],
   "source": [
    "with open ('sx-stackoverflow-c2a.txt') as dataset_c2a:\n",
    "    c2a = [int(x) for x in dataset_c2a.read().split()]"
   ]
  },
  {
   "cell_type": "code",
   "execution_count": null,
   "id": "f4cde396",
   "metadata": {},
   "outputs": [],
   "source": [
    "m=int(len(c2a)/3)\n",
    "for i in range(2,m+1,3):\n",
    "    c2a[i]=dt.utcfromtimestamp(c2a[i]).strftime('%Y-%m-%d')"
   ]
  },
  {
   "cell_type": "code",
   "execution_count": null,
   "id": "3d839bf5",
   "metadata": {},
   "outputs": [],
   "source": [
    "with open ('sx-stackoverflow-c2q.txt') as dataset_c2q:\n",
    "    c2q = [int(x) for x in dataset_c2q.read().split()]"
   ]
  },
  {
   "cell_type": "code",
   "execution_count": null,
   "id": "ab9040c2",
   "metadata": {},
   "outputs": [],
   "source": [
    "m=int(len(c2q)/3)\n",
    "for i in range(2,m+1,3):\n",
    "    c2q[i]=dt.utcfromtimestamp(c2q[i]).strftime('%Y-%m-%d')"
   ]
  },
  {
   "cell_type": "code",
   "execution_count": null,
   "id": "7477426f",
   "metadata": {},
   "outputs": [],
   "source": [
    "a2q_n=a2q[0:n]\n",
    "c2a_n=c2a[0:n]\n",
    "c2q_n=c2q[0:n]"
   ]
  },
  {
   "cell_type": "markdown",
   "id": "e57bf5fb-60ac-4ca3-b589-b6b7aa2d3a60",
   "metadata": {},
   "source": [
    "### Remove answer from user to his own question, i.e. remove loops from corresponding graph"
   ]
  },
  {
   "cell_type": "code",
   "execution_count": 5,
   "id": "97f0f7d4-a147-490e-a80f-625550d3daf8",
   "metadata": {},
   "outputs": [],
   "source": [
    "w=0\n",
    "while w<len(a2q_n):\n",
    "    if a2q_n[w][0]==a2q_n[w][1]:\n",
    "        del a2q_n[w]\n",
    "    else:\n",
    "        w+=1\n",
    "naq=len(a2q_n)"
   ]
  },
  {
   "cell_type": "markdown",
   "id": "71261cdf-093b-47d1-985d-ed9eeefba444",
   "metadata": {},
   "source": [
    "### Should do the same for the other 2"
   ]
  },
  {
   "cell_type": "code",
   "execution_count": 6,
   "id": "e48006d7-9c6e-4757-a458-0c69c8e76889",
   "metadata": {},
   "outputs": [],
   "source": [
    "x=0\n",
    "while x<len(c2a_n):\n",
    "    if c2a_n[x][0]==c2a_n[x][1]:\n",
    "        del c2a_n[x]\n",
    "    else:\n",
    "        x+=1\n",
    "nca=len(c2a_n)"
   ]
  },
  {
   "cell_type": "code",
   "execution_count": 7,
   "id": "9fde7540-072c-4579-8af4-24d9739a9433",
   "metadata": {},
   "outputs": [],
   "source": [
    "y=0\n",
    "while y<len(c2q_n):\n",
    "    if c2q_n[y][0]==c2q_n[y][1]:\n",
    "        del c2q_n[y]\n",
    "    else:\n",
    "        y+=1\n",
    "ncq=len(c2q_n)"
   ]
  },
  {
   "cell_type": "markdown",
   "id": "8bf70e69-6d3f-4d60-a549-df2ca701befc",
   "metadata": {},
   "source": [
    "## NOW CREATE WEIGHTED GRAPH ??"
   ]
  },
  {
   "cell_type": "markdown",
   "id": "826ed072-9772-424b-bf51-80567683222f",
   "metadata": {},
   "source": [
    "### We'll use a nested dictionary"
   ]
  },
  {
   "cell_type": "code",
   "execution_count": 9,
   "id": "3b1b83a1-76eb-46fd-8640-dc5f010e01a6",
   "metadata": {},
   "outputs": [],
   "source": [
    "dict_a2q_n={}\n",
    "for i in range (0,naq):\n",
    "    dict_a2q_n[a2q_n[i][0]]={'a2vs_question':a2q_n[0][1],'time_a2q':a2q_n[0][2],'weight':0}"
   ]
  },
  {
   "cell_type": "code",
   "execution_count": 10,
   "id": "c2383626-83a7-48d2-b6e6-2196bd1baa3b",
   "metadata": {},
   "outputs": [],
   "source": [
    "dict_c2a_n={}\n",
    "for i in range (0,nca):\n",
    "    dict_c2a_n[c2a_n[i][0]]={'c2vs_answer':c2a_n[0][1],'time_c2a':c2a_n[0][2],'weight':0}"
   ]
  },
  {
   "cell_type": "code",
   "execution_count": 11,
   "id": "ee5ac4e5-614f-4b9b-a890-8f045bd26946",
   "metadata": {},
   "outputs": [],
   "source": [
    "dict_c2q_n={}\n",
    "for i in range (0,ncq):\n",
    "    dict_c2q_n[c2q_n[i][0]]={'c2vs_question':c2q_n[0][1],'time_c2q':c2q_n[0][2],'weight':0}"
   ]
  },
  {
   "cell_type": "markdown",
   "id": "911ea805-30b0-44cb-8641-c83b29a3daf8",
   "metadata": {},
   "source": [
    "#### For the merged dataset: -----> to work on, according to how we decide to merge"
   ]
  },
  {
   "cell_type": "code",
   "execution_count": 12,
   "id": "6f97aa6b-df17-4b3e-b0dc-b9db546db35c",
   "metadata": {},
   "outputs": [],
   "source": [
    "dict_merged={}\n",
    "dict_merged.update(dict_a2q_n)\n",
    "for i in dict_c2a_n.keys():\n",
    "    if i not in dict_merged.keys():\n",
    "        dict_merged[i]={'c2vs_answer':c2a_n[0][1],'time_c2a':c2a_n[0][2],'weight':0}\n",
    "for j in dict_c2q_n.keys():\n",
    "    if j not in dict_merged.keys(): \n",
    "        dict_merged[j]={'c2vs_question':c2q_n[0][1],'time_c2q':c2q_n[0][2],'weight':0}\n"
   ]
  },
  {
   "cell_type": "code",
   "execution_count": 13,
   "id": "974728f4-f04a-4486-a8f6-b0fef5c4a090",
   "metadata": {},
   "outputs": [],
   "source": [
    "for key in dict_merged.keys():\n",
    "    if len(dict_merged[key])>3:\n",
    "        print(i)"
   ]
  }
 ],
 "metadata": {
  "kernelspec": {
   "display_name": "Python 3",
   "language": "python",
   "name": "python3"
  },
  "language_info": {
   "codemirror_mode": {
    "name": "ipython",
    "version": 3
   },
   "file_extension": ".py",
   "mimetype": "text/x-python",
   "name": "python",
   "nbconvert_exporter": "python",
   "pygments_lexer": "ipython3",
   "version": "3.8.8"
  }
 },
 "nbformat": 4,
 "nbformat_minor": 5
}
